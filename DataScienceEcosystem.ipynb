{
  "metadata": {
    "kernelspec": {
      "name": "python",
      "display_name": "Python (Pyodide)",
      "language": "python"
    },
    "language_info": {
      "codemirror_mode": {
        "name": "python",
        "version": 3
      },
      "file_extension": ".py",
      "mimetype": "text/x-python",
      "name": "python",
      "nbconvert_exporter": "python",
      "pygments_lexer": "ipython3",
      "version": "3.8"
    }
  },
  "nbformat_minor": 4,
  "nbformat": 4,
  "cells": [
    {
      "cell_type": "markdown",
      "source": "# Data Science Tools and Ecosystem",
      "metadata": {}
    },
    {
      "cell_type": "markdown",
      "source": "In this notebook, Data Science Tools and Ecosystem are summarized.",
      "metadata": {}
    },
    {
      "cell_type": "markdown",
      "source": "The top 5 programming languages amongst Data Scientist are:\n1. Python\n2. R\n3. SQL\n4. C++\n5. Java",
      "metadata": {}
    },
    {
      "cell_type": "markdown",
      "source": "There are a multitude of libraries used by Data Scientist, such as:\n1. Pandas\n2. SciPy\n3. Matplotlib\n4. Pytorch\n5. Tensorflow\n6. Numpy\n7. Keras\n8. SciKit-Learn\n   ",
      "metadata": {}
    },
    {
      "cell_type": "markdown",
      "source": "|Data Science Tools|\n|---|\n|SAS|\n|Apache Hadoop|\n|Tensorflow|",
      "metadata": {}
    },
    {
      "cell_type": "markdown",
      "source": "### Below are a few examples of evaluating arthimetic expressions in Python",
      "metadata": {}
    },
    {
      "cell_type": "code",
      "source": "#this is a common arithmetic example to multiply and then add integers\n(5*3)+4",
      "metadata": {
        "trusted": true
      },
      "outputs": [
        {
          "execution_count": 3,
          "output_type": "execute_result",
          "data": {
            "text/plain": "19"
          },
          "metadata": {}
        }
      ],
      "execution_count": 3
    },
    {
      "cell_type": "code",
      "source": "#this will convert 300 minutes into hours in decimal format\n300/60",
      "metadata": {
        "trusted": true
      },
      "outputs": [
        {
          "execution_count": 4,
          "output_type": "execute_result",
          "data": {
            "text/plain": "5.0"
          },
          "metadata": {}
        }
      ],
      "execution_count": 4
    },
    {
      "cell_type": "markdown",
      "source": "__Objective__\n* list popular languages for Data Science\n* list popular libraries for Data Science\n* list common Data Science Tools\n* How to provide comments in the cell",
      "metadata": {}
    },
    {
      "cell_type": "markdown",
      "source": "## Author\nStephen Garces",
      "metadata": {}
    },
    {
      "cell_type": "code",
      "source": "",
      "metadata": {
        "trusted": true
      },
      "outputs": [],
      "execution_count": null
    }
  ]
}